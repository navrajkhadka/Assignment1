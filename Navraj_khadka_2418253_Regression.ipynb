{
  "nbformat": 4,
  "nbformat_minor": 0,
  "metadata": {
    "colab": {
      "provenance": []
    },
    "kernelspec": {
      "name": "python3",
      "display_name": "Python 3"
    },
    "language_info": {
      "name": "python"
    }
  },
  "cells": [
    {
      "cell_type": "code",
      "execution_count": 2,
      "metadata": {
        "colab": {
          "base_uri": "https://localhost:8080/"
        },
        "id": "_NWZ3Bva1-oY",
        "outputId": "2a341d3a-0625-40ee-b1dd-24ac3d9f59ee"
      },
      "outputs": [
        {
          "output_type": "stream",
          "name": "stdout",
          "text": [
            "Drive already mounted at /content/drive; to attempt to forcibly remount, call drive.mount(\"/content/drive\", force_remount=True).\n"
          ]
        }
      ],
      "source": [
        "from google.colab import drive\n",
        "drive.mount('/content/drive')"
      ]
    },
    {
      "cell_type": "code",
      "source": [
        "%cd /content/drive/MyDrive/Concepts and Technologies of AI"
      ],
      "metadata": {
        "colab": {
          "base_uri": "https://localhost:8080/"
        },
        "id": "BFL7-Jqs2RMA",
        "outputId": "f1fdb6aa-e654-4096-9a24-45783c530259"
      },
      "execution_count": 3,
      "outputs": [
        {
          "output_type": "stream",
          "name": "stdout",
          "text": [
            "/content/drive/MyDrive/Concepts and Technologies of AI\n"
          ]
        }
      ]
    },
    {
      "cell_type": "code",
      "source": [
        "from sklearn.model_selection import train_test_split, GridSearchCV\n",
        "from sklearn.preprocessing import LabelEncoder, StandardScaler\n",
        "from sklearn.preprocessing import StandardScaler\n",
        "from sklearn.metrics import accuracy_score, confusion_matrix, classification_report\n",
        "from sklearn.linear_model import LogisticRegression\n",
        "from sklearn.ensemble import RandomForestClassifier\n",
        "from sklearn.feature_selection import SelectKBest, f_classif, RFE"
      ],
      "metadata": {
        "id": "583hPRfV2SvT"
      },
      "execution_count": 4,
      "outputs": []
    },
    {
      "cell_type": "code",
      "source": [
        "import pandas as pd\n",
        "from sklearn.model_selection import train_test_split\n",
        "from sklearn.preprocessing import LabelEncoder, StandardScaler\n",
        "\n",
        "# Load dataset\n",
        "file_path = \"/content/drive/MyDrive/AI finalprototype /goal15.forest_shares.csv\"\n",
        "df = pd.read_csv(file_path)\n",
        "\n",
        "# Drop rows with missing 'trend' values\n",
        "df = df.dropna(subset=['trend'])\n",
        "\n",
        "# Define target variable (trend category)\n",
        "def categorize_trend(value):\n",
        "    if value > 0:\n",
        "        return \"Increase\"\n",
        "    elif value < 0:\n",
        "        return \"Decrease\"\n",
        "    else:\n",
        "        return \"No Change\"\n",
        "\n",
        "df[\"Trend Category\"] = df[\"trend\"].apply(categorize_trend)\n",
        "\n",
        "# Encode categorical labels\n",
        "label_encoder = LabelEncoder()\n",
        "df[\"Trend Category\"] = label_encoder.fit_transform(df[\"Trend Category\"])\n",
        "\n",
        "# Select features and target\n",
        "X = df[[\"forests_2000\", \"forests_2020\"]]  # Using forest coverage as features\n",
        "y = df[\"Trend Category\"]\n",
        "\n",
        "# Split data\n",
        "X_train, X_test, y_train, y_test = train_test_split(X, y, test_size=0.2, random_state=42)\n",
        "\n",
        "# Scale features\n",
        "scaler = StandardScaler()\n",
        "X_train = scaler.fit_transform(X_train)\n",
        "X_test = scaler.transform(X_test)\n"
      ],
      "metadata": {
        "id": "Rpuy74Qu2ca0"
      },
      "execution_count": 6,
      "outputs": []
    },
    {
      "cell_type": "code",
      "source": [
        "# Calculate accuracy for Logistic Regression\n",
        "train_acc_lr = accuracy_score(y_train, y_train_pred_lr)\n",
        "test_acc_lr = accuracy_score(y_test, y_test_pred_lr)\n",
        "\n",
        "print(f\"Logistic Regression - Train Accuracy: {train_acc_lr:.4f}\")\n",
        "print(f\"Logistic Regression - Test Accuracy: {test_acc_lr:.4f}\")\n"
      ],
      "metadata": {
        "colab": {
          "base_uri": "https://localhost:8080/"
        },
        "id": "ol2vPL-r6EYI",
        "outputId": "e53558f0-a6bb-46cf-fb5c-3911e9fa3236"
      },
      "execution_count": 10,
      "outputs": [
        {
          "output_type": "stream",
          "name": "stdout",
          "text": [
            "Logistic Regression - Train Accuracy: 0.6630\n",
            "Logistic Regression - Test Accuracy: 0.6522\n"
          ]
        }
      ]
    },
    {
      "cell_type": "code",
      "source": [
        "# Evaluation for Logistic Regression\n",
        "print(\"Logistic Regression - Train Accuracy:\", accuracy_score(y_train, y_train_pred_lr))\n",
        "print(\"Logistic Regression - Test Accuracy:\", accuracy_score(y_test, y_test_pred_lr))\n"
      ],
      "metadata": {
        "colab": {
          "base_uri": "https://localhost:8080/"
        },
        "id": "VXX38lNU6ZRv",
        "outputId": "a7a48a59-5649-4720-c743-755fc4d08491"
      },
      "execution_count": 11,
      "outputs": [
        {
          "output_type": "stream",
          "name": "stdout",
          "text": [
            "Logistic Regression - Train Accuracy: 0.6629834254143646\n",
            "Logistic Regression - Test Accuracy: 0.6521739130434783\n"
          ]
        }
      ]
    },
    {
      "cell_type": "code",
      "source": [
        "# Train Random Forest Model\n",
        "rf_model = RandomForestClassifier(n_estimators=100, max_depth=None, random_state=42)\n",
        "rf_model.fit(X_train, y_train)\n",
        "\n",
        "# Predictions using Random Forest\n",
        "y_train_pred_rf = rf_model.predict(X_train)\n",
        "y_test_pred_rf = rf_model.predict(X_test)\n",
        "\n",
        "# Evaluation for Random Forest\n",
        "print(\"Random Forest - Train Accuracy:\", accuracy_score(y_train, y_train_pred_rf))\n",
        "print(\"Random Forest - Test Accuracy:\", accuracy_score(y_test, y_test_pred_rf))\n"
      ],
      "metadata": {
        "colab": {
          "base_uri": "https://localhost:8080/"
        },
        "id": "RLT5cdfy6crL",
        "outputId": "31c1228f-575b-4020-de59-908ecfe33d6d"
      },
      "execution_count": 12,
      "outputs": [
        {
          "output_type": "stream",
          "name": "stdout",
          "text": [
            "Random Forest - Train Accuracy: 1.0\n",
            "Random Forest - Test Accuracy: 0.6739130434782609\n"
          ]
        }
      ]
    },
    {
      "cell_type": "code",
      "source": [
        "# Hyperparameter tuning for Logistic Regression\n",
        "log_reg = LogisticRegression(max_iter=1000)\n",
        "param_grid_lr = {'C': [0.01, 0.1, 1, 10], 'solver': ['liblinear', 'lbfgs']}\n",
        "grid_search_lr = GridSearchCV(log_reg, param_grid_lr, cv=5, scoring='accuracy')\n",
        "grid_search_lr.fit(X_train, y_train)\n",
        "best_log_reg = grid_search_lr.best_estimator_"
      ],
      "metadata": {
        "id": "7VF7LK_06pdG"
      },
      "execution_count": 13,
      "outputs": []
    },
    {
      "cell_type": "code",
      "source": [
        "# Hyperparameter tuning for Random Forest\n",
        "rf_model = RandomForestClassifier(random_state=42)\n",
        "param_grid_rf = {'n_estimators': [50, 100, 200], 'max_depth': [None, 10, 20]}\n",
        "grid_search_rf = GridSearchCV(rf_model, param_grid_rf, cv=5, scoring='accuracy')\n",
        "grid_search_rf.fit(X_train, y_train)\n",
        "best_rf = grid_search_rf.best_estimator_"
      ],
      "metadata": {
        "id": "xQMDUzmv6u4l"
      },
      "execution_count": 14,
      "outputs": []
    },
    {
      "cell_type": "code",
      "source": [
        "# Train and evaluate Logistic Regression\n",
        "y_test_pred_lr = best_log_reg.predict(X_test)\n",
        "print(\"Best Logistic Regression Parameters:\", grid_search_lr.best_params_)\n",
        "print(\"Logistic Regression Test Accuracy:\", accuracy_score(y_test, y_test_pred_lr))\n",
        "print(\"Confusion Matrix:\\n\", confusion_matrix(y_test, y_test_pred_lr))\n",
        "print(\"Classification Report:\\n\", classification_report(y_test, y_test_pred_lr))"
      ],
      "metadata": {
        "colab": {
          "base_uri": "https://localhost:8080/"
        },
        "id": "8XEKJsQU639R",
        "outputId": "c8984a1a-262c-465c-fe3b-d1523688fb49"
      },
      "execution_count": 15,
      "outputs": [
        {
          "output_type": "stream",
          "name": "stdout",
          "text": [
            "Best Logistic Regression Parameters: {'C': 10, 'solver': 'lbfgs'}\n",
            "Logistic Regression Test Accuracy: 0.717391304347826\n",
            "Confusion Matrix:\n",
            " [[18  4  0]\n",
            " [ 0 15  0]\n",
            " [ 1  8  0]]\n",
            "Classification Report:\n",
            "               precision    recall  f1-score   support\n",
            "\n",
            "           0       0.95      0.82      0.88        22\n",
            "           1       0.56      1.00      0.71        15\n",
            "           2       0.00      0.00      0.00         9\n",
            "\n",
            "    accuracy                           0.72        46\n",
            "   macro avg       0.50      0.61      0.53        46\n",
            "weighted avg       0.63      0.72      0.65        46\n",
            "\n"
          ]
        },
        {
          "output_type": "stream",
          "name": "stderr",
          "text": [
            "/usr/local/lib/python3.10/dist-packages/sklearn/metrics/_classification.py:1565: UndefinedMetricWarning: Precision is ill-defined and being set to 0.0 in labels with no predicted samples. Use `zero_division` parameter to control this behavior.\n",
            "  _warn_prf(average, modifier, f\"{metric.capitalize()} is\", len(result))\n",
            "/usr/local/lib/python3.10/dist-packages/sklearn/metrics/_classification.py:1565: UndefinedMetricWarning: Precision is ill-defined and being set to 0.0 in labels with no predicted samples. Use `zero_division` parameter to control this behavior.\n",
            "  _warn_prf(average, modifier, f\"{metric.capitalize()} is\", len(result))\n",
            "/usr/local/lib/python3.10/dist-packages/sklearn/metrics/_classification.py:1565: UndefinedMetricWarning: Precision is ill-defined and being set to 0.0 in labels with no predicted samples. Use `zero_division` parameter to control this behavior.\n",
            "  _warn_prf(average, modifier, f\"{metric.capitalize()} is\", len(result))\n"
          ]
        }
      ]
    },
    {
      "cell_type": "code",
      "source": [
        "selector = SelectKBest(score_func=f_classif, k=3)\n",
        "X_new = selector.fit_transform(X_train, y_train)\n",
        "\n",
        "print(\"Selected Features:\", X.columns[selector.get_support()])"
      ],
      "metadata": {
        "colab": {
          "base_uri": "https://localhost:8080/"
        },
        "id": "a4WvEDy267zn",
        "outputId": "de33eb6a-a11a-447d-ecd6-ac731f6313e2"
      },
      "execution_count": 16,
      "outputs": [
        {
          "output_type": "stream",
          "name": "stdout",
          "text": [
            "Selected Features: Index(['forests_2000', 'forests_2020'], dtype='object')\n"
          ]
        },
        {
          "output_type": "stream",
          "name": "stderr",
          "text": [
            "/usr/local/lib/python3.10/dist-packages/sklearn/feature_selection/_univariate_selection.py:779: UserWarning: k=3 is greater than n_features=2. All the features will be returned.\n",
            "  warnings.warn(\n"
          ]
        }
      ]
    },
    {
      "cell_type": "code",
      "source": [
        "# Train and evaluate Random Forest\n",
        "y_test_pred_rf = best_rf.predict(X_test)\n",
        "\n",
        "# Store evaluation metrics\n",
        "rf_params = grid_search_rf.best_params_\n",
        "rf_accuracy = accuracy_score(y_test, y_test_pred_rf)\n",
        "rf_conf_matrix = confusion_matrix(y_test, y_test_pred_rf)\n",
        "rf_class_report = classification_report(y_test, y_test_pred_rf)\n",
        "\n",
        "# Display results\n",
        "print(\"Best Random Forest Parameters:\", rf_params)\n",
        "print(\"\\nRandom Forest Test Accuracy:\", rf_accuracy)\n",
        "print(\"\\nConfusion Matrix:\\n\", rf_conf_matrix)\n",
        "print(\"\\nClassification Report:\\n\", rf_class_report)\n"
      ],
      "metadata": {
        "colab": {
          "base_uri": "https://localhost:8080/"
        },
        "id": "EKphTP2s7GCY",
        "outputId": "b858730b-62e3-49c9-c7d2-e4e0977386ee"
      },
      "execution_count": 17,
      "outputs": [
        {
          "output_type": "stream",
          "name": "stdout",
          "text": [
            "Best Random Forest Parameters: {'max_depth': 20, 'n_estimators': 100}\n",
            "\n",
            "Random Forest Test Accuracy: 0.6739130434782609\n",
            "\n",
            "Confusion Matrix:\n",
            " [[18  2  2]\n",
            " [ 3  9  3]\n",
            " [ 3  2  4]]\n",
            "\n",
            "Classification Report:\n",
            "               precision    recall  f1-score   support\n",
            "\n",
            "           0       0.75      0.82      0.78        22\n",
            "           1       0.69      0.60      0.64        15\n",
            "           2       0.44      0.44      0.44         9\n",
            "\n",
            "    accuracy                           0.67        46\n",
            "   macro avg       0.63      0.62      0.62        46\n",
            "weighted avg       0.67      0.67      0.67        46\n",
            "\n"
          ]
        }
      ]
    },
    {
      "cell_type": "code",
      "source": [
        "# Calculate accuracy\n",
        "lr_accuracy = accuracy_score(y_test, y_test_pred_lr)\n",
        "rf_accuracy = accuracy_score(y_test, y_test_pred_rf)\n",
        "\n",
        "# Compare models\n",
        "if lr_accuracy > rf_accuracy:\n",
        "    print(\"Final Model: Logistic Regression performed better.\")\n",
        "else:\n",
        "    print(\"Final Model: Random Forest performed better.\")\n"
      ],
      "metadata": {
        "colab": {
          "base_uri": "https://localhost:8080/"
        },
        "id": "vcIsTiJ97ORQ",
        "outputId": "71a39fc5-013e-4ba2-c856-7f4f05288ae7"
      },
      "execution_count": 18,
      "outputs": [
        {
          "output_type": "stream",
          "name": "stdout",
          "text": [
            "Final Model: Logistic Regression performed better.\n"
          ]
        }
      ]
    }
  ]
}